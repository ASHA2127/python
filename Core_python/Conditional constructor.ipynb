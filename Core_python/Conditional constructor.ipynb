{
 "cells": [
  {
   "cell_type": "code",
   "execution_count": 11,
   "id": "239bf4ff-cf53-4f1d-8fdc-7c1fce02b2af",
   "metadata": {},
   "outputs": [
    {
     "name": "stdin",
     "output_type": "stream",
     "text": [
      "Enter a year :  2028\n"
     ]
    },
    {
     "name": "stdout",
     "output_type": "stream",
     "text": [
      "2028 is a leap year\n"
     ]
    }
   ],
   "source": [
    "#To find leap year\n",
    "\n",
    "# take input from the user\n",
    "year = int(input(\"Enter a year : \"))\n",
    "\n",
    "#A year is leap year if:\n",
    "# it is divisible by 4 and not divisible by 100 or \n",
    "\n",
    "if (year % 4 == 0 and year % 100 != 0):\n",
    "\n",
    "    print(f\"{year} is a leap year\")\n",
    "else:\n",
    "    print(f\"{year} is not a leap year\")"
   ]
  },
  {
   "cell_type": "code",
   "execution_count": 22,
   "id": "730b16a7-288e-4566-a90c-1d476395b991",
   "metadata": {},
   "outputs": [
    {
     "name": "stdin",
     "output_type": "stream",
     "text": [
      "Enter first number: 6\n",
      "Enter the second number: 4\n",
      "Enter the third number: 7\n"
     ]
    },
    {
     "name": "stdout",
     "output_type": "stream",
     "text": [
      " the largest number is 7\n"
     ]
    }
   ],
   "source": [
    "#to find the largest among three numbers\n",
    "#input to be taken\n",
    "num1 = int(input(\"Enter first number:\"))\n",
    "num2 = int(input(\"Enter the second number:\"))\n",
    "num3 = int(input(\"Enter the third number:\"))\n",
    "\n",
    "#use max() function to  find the largest number\n",
    "largest = max(num1, num2, num3)\n",
    "\n",
    "#display the result\n",
    "print(f\" the largest number is {largest}\")"
   ]
  },
  {
   "cell_type": "code",
   "execution_count": 24,
   "id": "41202d09-d83c-4d91-a137-1d5e8e6a4689",
   "metadata": {},
   "outputs": [
    {
     "name": "stdin",
     "output_type": "stream",
     "text": [
      "Enter a number: -5\n"
     ]
    },
    {
     "name": "stdout",
     "output_type": "stream",
     "text": [
      "Tthe number is negetive\n"
     ]
    }
   ],
   "source": [
    "#To check if a number is positive,negetive, or zero\n",
    "\n",
    "#Take input from the user\n",
    "num = float(input(\"Enter a number:\"))\n",
    "\n",
    "#check whether the number is positive, negetive, or zero\n",
    "if num > 0:\n",
    "    print(\"The number is positive\")\n",
    "elif num < 0:\n",
    "    print(\"Tthe number is negetive\")\n",
    "else:\n",
    "    print(\"The number is zero\")"
   ]
  },
  {
   "cell_type": "code",
   "execution_count": 30,
   "id": "51dc4a56-3219-47fe-91b7-6df3797b4624",
   "metadata": {},
   "outputs": [
    {
     "name": "stdin",
     "output_type": "stream",
     "text": [
      "Enter the product code (1: battery, 2: key, 3: electrical charging): 3\n",
      "Enter order amount: 1200\n"
     ]
    },
    {
     "name": "stdout",
     "output_type": "stream",
     "text": [
      "final amount to be paid: rs.1080.0\n"
     ]
    }
   ],
   "source": [
    "#Toy vendor discount program\n",
    "\n",
    "#input as product_code and order amount\n",
    "\n",
    "product_code = int(input(\"Enter the product code (1: battery, 2: key, 3: electrical charging):\"))\n",
    "order_amount = float(input(\"Enter order amount:\"))\n",
    "\n",
    "#initialize discount to zero\n",
    "discount = 0\n",
    "\n",
    "#discount based on product type and order amount\n",
    "\n",
    "# 10% discount for battery based toys above rs.1000\n",
    "if product_code == 1 and order_amount >100:\n",
    "    discount = 0.10 * order_amount\n",
    "\n",
    "#5% discount for key based toys above rs.100\n",
    "elif product_code == 2 and order_amount > 100:\n",
    "    discount = 0.05 * order_amount\n",
    "\n",
    "#10% discpunt for electrical charging toys above rs.500\n",
    "elif product_code == 3 and order_amount > 500:\n",
    "    discount = 0.10 * order_amount\n",
    "\n",
    "#the final amount to be paid\n",
    "final_amount = order_amount - discount\n",
    "\n",
    "#display the final amount\n",
    "print(f\"final amount to be paid: rs.{final_amount}\")\n",
    "\n"
   ]
  },
  {
   "cell_type": "code",
   "execution_count": 32,
   "id": "4bc78721-c658-494b-b03c-63b20931b5b8",
   "metadata": {},
   "outputs": [
    {
     "name": "stdin",
     "output_type": "stream",
     "text": [
      "Enter the distance traveled (in km): 10\n"
     ]
    },
    {
     "name": "stdout",
     "output_type": "stream",
     "text": [
      " Total fare: rs.80.0\n"
     ]
    }
   ],
   "source": [
    "#Transport company fare calculation\n",
    "\n",
    "#input for distance travelled\n",
    "distance = float(input(\"Enter the distance traveled (in km):\"))\n",
    "\n",
    "#fare variable\n",
    "fare = 0\n",
    "\n",
    "#fare based on distance\n",
    "\n",
    "if distance <= 50:\n",
    "    fare = distance * 8  # rs.8nper km for first 50km\n",
    "elif distance <= 100:\n",
    "    fare = (50 * 8) + ((distance - 50) * 10) #rs.10 per km foe next 50 km\n",
    "else:\n",
    "    fare = (50 *8) + (50 * 10) + ((distance - 100)* 12) #rs.12 per km for distance > 100 km\n",
    "\n",
    "#print the total fare\n",
    "print(f\" Total fare: rs.{fare}\")"
   ]
  },
  {
   "cell_type": "code",
   "execution_count": null,
   "id": "1251dbe8-30a3-4307-bc61-859f532dfd6b",
   "metadata": {},
   "outputs": [],
   "source": []
  }
 ],
 "metadata": {
  "kernelspec": {
   "display_name": "Python [conda env:base] *",
   "language": "python",
   "name": "conda-base-py"
  },
  "language_info": {
   "codemirror_mode": {
    "name": "ipython",
    "version": 3
   },
   "file_extension": ".py",
   "mimetype": "text/x-python",
   "name": "python",
   "nbconvert_exporter": "python",
   "pygments_lexer": "ipython3",
   "version": "3.12.7"
  }
 },
 "nbformat": 4,
 "nbformat_minor": 5
}
