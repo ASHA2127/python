{
 "cells": [
  {
   "cell_type": "code",
   "execution_count": 1,
   "id": "f27e9141-b496-43b8-be05-ca87fe04dc6d",
   "metadata": {},
   "outputs": [
    {
     "name": "stdout",
     "output_type": "stream",
     "text": [
      "Mean of the dictionary values: 6.2\n"
     ]
    }
   ],
   "source": [
    "#Write a Python program and calculate the mean of the below dictionary.\n",
    "#test_dict{\"A\": 6, \"B\": 9, \"C\": 5, \"D\" : 7, \"E\":4}\n",
    "\n",
    "# Given dictionary\n",
    "test_dict = {\"A\": 6, \"B\": 9, \"C\": 5, \"D\": 7, \"E\": 4}\n",
    "\n",
    "# Calculate the mean\n",
    "mean_value = sum(test_dict.values()) / len(test_dict)\n",
    "\n",
    "# Print the result\n",
    "print(\"Mean of the dictionary values:\", mean_value)\n"
   ]
  },
  {
   "cell_type": "code",
   "execution_count": 3,
   "id": "8a1fabcd-edf3-4681-9823-b917524741e6",
   "metadata": {},
   "outputs": [
    {
     "name": "stdout",
     "output_type": "stream",
     "text": [
      "Combined Dictionary: {1: 10, 2: 20, 3: 30, 4: 40, 5: 50, 6: 60}\n"
     ]
    }
   ],
   "source": [
    "#Write a Python script to concatenate the following dictionaries to create a new one.\n",
    "#Sample Dictionary:\n",
    "#dic1=(1:10,2:20)\n",
    "#dic2=(3:30.4:40)\n",
    "#dic3=(5.50.6.60)\n",
    "\n",
    "# Sample dictionaries\n",
    "dic1 = {1: 10, 2: 20}\n",
    "dic2 = {3: 30, 4: 40}\n",
    "dic3 = {5: 50, 6: 60}\n",
    "\n",
    "# Concatenating dictionaries\n",
    "combined_dict = {**dic1, **dic2, **dic3}\n",
    "\n",
    "# Print the result\n",
    "print(\"Combined Dictionary:\", combined_dict)"
   ]
  },
  {
   "cell_type": "code",
   "execution_count": 7,
   "id": "358c3a91-5b3a-45f8-9c77-a5c36c3f5e35",
   "metadata": {},
   "outputs": [
    {
     "name": "stdout",
     "output_type": "stream",
     "text": [
      "Key\tValue\n",
      "-----------------\n",
      "1\t10\n",
      "2\t20\n",
      "3\t30\n",
      "4\t40\n",
      "5\t50\n",
      "6\t60\n"
     ]
    }
   ],
   "source": [
    "#Write a Python program to get the key, value and item in a dictionary\n",
    "\n",
    "#input dict num (1:10, 2:20, 3:30, 4:40, 5:50, 6:60)\n",
    "\n",
    "#Output\n",
    "\n",
    "#key:        #values\n",
    "#1           10\n",
    "#2           20\n",
    "#3           30\n",
    "#4           40\n",
    "#5           50\n",
    "#6           60\n",
    " \n",
    "\n",
    "# Input dictionary\n",
    "num = {1: 10, 2: 20, 3: 30, 4: 40, 5: 50, 6: 60}\n",
    "\n",
    "# Extracting keys and values\n",
    "keys = num.keys()\n",
    "values = num.values()\n",
    "\n",
    "# Printing the output in columns\n",
    "print(\"Key\\tValue\")\n",
    "print(\"-----------------\")\n",
    "for key, value in num.items():\n",
    "    print(f\"{key}\\t{value}\")"
   ]
  },
  {
   "cell_type": "code",
   "execution_count": 9,
   "id": "32fbc532-52a2-42c4-8cf4-13960f0300a1",
   "metadata": {},
   "outputs": [
    {
     "name": "stdout",
     "output_type": "stream",
     "text": [
      "Dictionary with Empty Items Dropped: {1: 10, 2: 20, 4: 40, 6: 60}\n"
     ]
    }
   ],
   "source": [
    "#write a python program to get the key value and item in a dictionary\n",
    "# Input dictionary\n",
    "input_dict = {1: 10, 2: 20, 3: None, 4: 40, 5: None, 6: 60}\n",
    "\n",
    "# Dropping items with None values\n",
    "filtered_dict = {key: value for key, value in input_dict.items() if value is not None}\n",
    "\n",
    "# Printing the output\n",
    "print(\"Dictionary with Empty Items Dropped:\", filtered_dict)"
   ]
  },
  {
   "cell_type": "code",
   "execution_count": null,
   "id": "c47f4640-cb8c-4daf-a5bc-d539e21c8d50",
   "metadata": {},
   "outputs": [],
   "source": []
  }
 ],
 "metadata": {
  "kernelspec": {
   "display_name": "Python [conda env:base] *",
   "language": "python",
   "name": "conda-base-py"
  },
  "language_info": {
   "codemirror_mode": {
    "name": "ipython",
    "version": 3
   },
   "file_extension": ".py",
   "mimetype": "text/x-python",
   "name": "python",
   "nbconvert_exporter": "python",
   "pygments_lexer": "ipython3",
   "version": "3.12.7"
  }
 },
 "nbformat": 4,
 "nbformat_minor": 5
}
