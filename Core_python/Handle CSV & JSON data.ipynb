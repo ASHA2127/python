{
 "cells": [
  {
   "cell_type": "code",
   "execution_count": 20,
   "id": "e7b939d7-386c-4d12-bde7-7121b67c857a",
   "metadata": {},
   "outputs": [
    {
     "name": "stdout",
     "output_type": "stream",
     "text": [
      "['Name', 'Age', 'City']\n",
      "['Alice', 'Unknown', 'New York']\n",
      "['Bob', '25', 'Unknown']\n",
      "['Charlie', '35', 'Chicago']\n"
     ]
    }
   ],
   "source": [
    "import csv\n",
    "\n",
    "def replace_missing_values(filename, default_value=\"Unknown\"):\n",
    "    with open(filename, mode='r', newline='') as file:\n",
    "        reader = csv.reader(file)\n",
    "        data = []\n",
    "        \n",
    "        for row in reader:\n",
    "            # Replace missing values with the default value\n",
    "            row = [value if value else default_value for value in row]\n",
    "            data.append(row)\n",
    "    \n",
    "    return data\n",
    "\n",
    "# Example usage\n",
    "result = replace_missing_values(\"missing.csv\")\n",
    "for row in result:\n",
    "    print(row)"
   ]
  },
  {
   "cell_type": "code",
   "execution_count": 24,
   "id": "51414c96-204c-48a0-8654-0bbc2de049ad",
   "metadata": {},
   "outputs": [],
   "source": [
    "import json"
   ]
  },
  {
   "cell_type": "code",
   "execution_count": 32,
   "id": "cc76ce72-edee-4082-af1b-f607bbca3b97",
   "metadata": {},
   "outputs": [
    {
     "name": "stdout",
     "output_type": "stream",
     "text": [
      "Invalid Product ID: 102\n",
      "Invalid Price: 40.00\n"
     ]
    }
   ],
   "source": [
    "import json\n",
    "\n",
    "def validate_product_data(product):\n",
    "    errors = []\n",
    "    \n",
    "    # Check if \"Product ID\" is an integer\n",
    "    if not isinstance(product.get(\"Product ID\"), int):\n",
    "        errors.append(f\"Invalid Product ID: {product.get('Product ID')}\")\n",
    "    \n",
    "    # Check if \"Name\" is a string\n",
    "    if not isinstance(product.get(\"Name\"), str):\n",
    "        errors.append(f\"Invalid Name: {product.get('Name')}\")\n",
    "    \n",
    "    # Check if \"Price\" is a float or int\n",
    "    if not isinstance(product.get(\"Price\"), (float, int)):\n",
    "        errors.append(f\"Invalid Price: {product.get('Price')}\")\n",
    "    \n",
    "    return errors\n",
    "\n",
    "def validate_json_file(file_path):\n",
    "    with open(file_path, 'r') as file:\n",
    "        try:\n",
    "            data = json.load(file)\n",
    "        except json.JSONDecodeError as e:\n",
    "            print(f\"Error decoding JSON: {e}\")\n",
    "            return\n",
    "        \n",
    "        for product in data:\n",
    "            errors = validate_product_data(product)\n",
    "            for error in errors:\n",
    "                print(error)\n",
    "\n",
    "# Corrected the name check\n",
    "if __name__ == \"__main__\":\n",
    "    validate_json_file('data.json')"
   ]
  },
  {
   "cell_type": "code",
   "execution_count": null,
   "id": "67f5ee59-a5a0-43fc-9e1e-fe137aeb7978",
   "metadata": {},
   "outputs": [],
   "source": []
  }
 ],
 "metadata": {
  "kernelspec": {
   "display_name": "Python [conda env:base] *",
   "language": "python",
   "name": "conda-base-py"
  },
  "language_info": {
   "codemirror_mode": {
    "name": "ipython",
    "version": 3
   },
   "file_extension": ".py",
   "mimetype": "text/x-python",
   "name": "python",
   "nbconvert_exporter": "python",
   "pygments_lexer": "ipython3",
   "version": "3.12.7"
  }
 },
 "nbformat": 4,
 "nbformat_minor": 5
}
