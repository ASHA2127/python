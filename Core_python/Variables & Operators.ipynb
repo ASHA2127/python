{
 "cells": [
  {
   "cell_type": "code",
   "execution_count": 3,
   "id": "3881cebd-8a7f-4ffc-9e3e-52fcb0034d98",
   "metadata": {},
   "outputs": [
    {
     "name": "stdin",
     "output_type": "stream",
     "text": [
      "Enter the first number: 3\n",
      "Enter the second number: 4\n"
     ]
    },
    {
     "name": "stdout",
     "output_type": "stream",
     "text": [
      "sum of two numbers: 7\n",
      "Multiplication of two numbers: 12\n"
     ]
    }
   ],
   "source": [
    "#calculate the multiplication and sum of two numbers\n",
    "\n",
    "# first input\n",
    "num1 = int(input(\"Enter the first number:\"))\n",
    "# second input\n",
    "num2 = int(input(\"Enter the second number:\"))\n",
    "\n",
    "#sum of two numbers\n",
    "sum_result = num1 + num2\n",
    "print(\"sum of two numbers:\" ,sum_result)\n",
    "\n",
    "#multiplication of two numbers\n",
    "multiplication_result = num1 * num2\n",
    "print(\"Multiplication of two numbers:\" ,multiplication_result)"
   ]
  },
  {
   "cell_type": "code",
   "execution_count": 9,
   "id": "190cbd78-ef47-46b6-aae4-a60c64452d28",
   "metadata": {},
   "outputs": [
    {
     "name": "stdin",
     "output_type": "stream",
     "text": [
      "Enter first number: 4\n",
      "Enter second number: 5\n"
     ]
    },
    {
     "name": "stdout",
     "output_type": "stream",
     "text": [
      "the largest number is: 5\n"
     ]
    }
   ],
   "source": [
    "#To declare two variable and print that which variable is largest using ternary operators\n",
    "\n",
    "# To declare two variables\n",
    "a = int(input(\"Enter first number:\"))\n",
    "b = int(input(\"Enter second number:\"))\n",
    "\n",
    "#find the largest using ternary operator\n",
    "largest = a if a > b else b\n",
    "print(\"the largest number is:\",largest)         \n",
    "     \n",
    " "
   ]
  },
  {
   "cell_type": "code",
   "execution_count": 15,
   "id": "a1c85ce1-58c6-45ad-83f7-832929f3e709",
   "metadata": {},
   "outputs": [
    {
     "name": "stdin",
     "output_type": "stream",
     "text": [
      "Enter temperature in celsius: 25\n"
     ]
    },
    {
     "name": "stdout",
     "output_type": "stream",
     "text": [
      "Temperature in fahrenheit: 77.0\n"
     ]
    }
   ],
   "source": [
    "# to convert the temperature in degree centigrade to fahrenheit\n",
    "\n",
    "# temperature input in celsius\n",
    "celsius = float(input(\"Enter temperature in celsius:\"))\n",
    "\n",
    "#formula to convert (F = (C * 9/5 +32))\n",
    "                \n",
    "fahrenheit = (celsius * 9/5) + 32\n",
    "\n",
    "#print result\n",
    "print(\"Temperature in fahrenheit:\",fahrenheit)\n",
    "                "
   ]
  },
  {
   "cell_type": "code",
   "execution_count": 21,
   "id": "a864852b-777a-4a4e-9327-0a0427bbe27e",
   "metadata": {},
   "outputs": [
    {
     "name": "stdin",
     "output_type": "stream",
     "text": [
      "Enter base: 5\n",
      "Enter height: 7\n"
     ]
    },
    {
     "name": "stdout",
     "output_type": "stream",
     "text": [
      "Area of the triangle: 17.5\n"
     ]
    }
   ],
   "source": [
    "# to find the area of a triangle whose sides are given\n",
    "\n",
    "# input three sides of the triangle\n",
    "base = float(input(\"Enter base:\"))\n",
    "height = float(input(\"Enter height:\"))\n",
    "\n",
    "# calculare area formula ( area = 1/2 * base * height)\n",
    "area = 0.5 * base * height\n",
    "\n",
    "#display result\n",
    "print(\"Area of the triangle:\",area)\n",
    "\n",
    "\n"
   ]
  },
  {
   "cell_type": "code",
   "execution_count": null,
   "id": "a9414d41-ae39-4bc1-b007-583ca8895407",
   "metadata": {},
   "outputs": [],
   "source": []
  }
 ],
 "metadata": {
  "kernelspec": {
   "display_name": "Python [conda env:base] *",
   "language": "python",
   "name": "conda-base-py"
  },
  "language_info": {
   "codemirror_mode": {
    "name": "ipython",
    "version": 3
   },
   "file_extension": ".py",
   "mimetype": "text/x-python",
   "name": "python",
   "nbconvert_exporter": "python",
   "pygments_lexer": "ipython3",
   "version": "3.12.7"
  }
 },
 "nbformat": 4,
 "nbformat_minor": 5
}
