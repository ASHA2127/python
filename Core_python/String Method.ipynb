{
 "cells": [
  {
   "cell_type": "code",
   "execution_count": 3,
   "id": "d730b847-9940-4b4a-b2c5-4b16826c633d",
   "metadata": {},
   "outputs": [
    {
     "name": "stdout",
     "output_type": "stream",
     "text": [
      "Chars = 8 Digits = 3 Symbols = 4\n"
     ]
    }
   ],
   "source": [
    "#Write a Python program to Count all letters, digits, and special symbols from the given string\n",
    "\n",
    "#Input = \"P@#yn26at^&i5ve\"\n",
    "\n",
    "#Output: Chars = 8 Digits = 2 Symbol = 3\n",
    "def count_chars_digits_symbols(input_string):\n",
    "    # Count the number of alphabetic characters\n",
    "    chars = sum(c.isalpha() for c in input_string)\n",
    "    # Count the number of digits\n",
    "    digits = sum(c.isdigit() for c in input_string)\n",
    "    # Count the number of special symbols (non-alphanumeric characters)\n",
    "    symbols = sum(not c.isalnum() for c in input_string)\n",
    "    \n",
    "    # Print the results\n",
    "    print(f\"Chars = {chars} Digits = {digits} Symbols = {symbols}\")\n",
    "\n",
    "# Input string\n",
    "input_string = \"P@#yn26at^&i5ve\"\n",
    "# Call the function with the input string\n",
    "count_chars_digits_symbols(input_string)"
   ]
  },
  {
   "cell_type": "code",
   "execution_count": 7,
   "id": "936f2d95-b82e-4f8b-8e8e-25ca3cb4819d",
   "metadata": {},
   "outputs": [
    {
     "name": "stdout",
     "output_type": "stream",
     "text": [
      "String and Function\n"
     ]
    }
   ],
   "source": [
    "# Write a Python program to remove duplicate characters of a given string.\n",
    "\n",
    "#Input = \"String and String Function\"\n",
    "\n",
    "#Output: String and Function\n",
    "def remove_duplicate_words(input_string):\n",
    "    words = input_string.split()  # Split the string into words\n",
    "    seen = set()  # Set to keep track of seen words\n",
    "    result = []\n",
    "    \n",
    "    for word in words:\n",
    "        if word not in seen:\n",
    "            seen.add(word)  # Mark the word as seen\n",
    "            result.append(word)  # Add the word to the result list\n",
    "            \n",
    "    return ' '.join(result)  # Join the words back into a string\n",
    "\n",
    "input_string = \"String and String Function\"\n",
    "output_string = remove_duplicate_words(input_string)\n",
    "print(output_string)"
   ]
  },
  {
   "cell_type": "code",
   "execution_count": 9,
   "id": "f69e62c1-5c0b-4c20-b570-3119d26a4158",
   "metadata": {},
   "outputs": [
    {
     "name": "stdout",
     "output_type": "stream",
     "text": [
      "UpperCase: 5\n",
      "LowerCase: 20\n",
      "NumberCase: 3\n",
      "SpecialCase: 3\n"
     ]
    }
   ],
   "source": [
    "#Write a Python program to count Uppercase, Lowercase, special character and numeric values in a given string\n",
    "\n",
    "#Input = \"Hello World! 123* # welcome to pYtHoN\"\n",
    "#Output:\n",
    "#UpperCase: 5\n",
    "#LowerCase: 18\n",
    "#NumberCase: 5\n",
    "#SpecialCase: 11\n",
    "\n",
    "def count_case_types(input_string):\n",
    "    upper_case = 0\n",
    "    lower_case = 0\n",
    "    numbers = 0\n",
    "    special_chars = 0\n",
    "    \n",
    "    for c in input_string:\n",
    "        if c.isupper():\n",
    "            upper_case += 1\n",
    "        elif c.islower():\n",
    "            lower_case += 1\n",
    "        elif c.isdigit():\n",
    "            numbers += 1\n",
    "        elif not c.isspace():  # Count special characters (not whitespace)\n",
    "            special_chars += 1\n",
    "            \n",
    "    print(f\"UpperCase: {upper_case}\")\n",
    "    print(f\"LowerCase: {lower_case}\")\n",
    "    print(f\"NumberCase: {numbers}\")\n",
    "    print(f\"SpecialCase: {special_chars}\")\n",
    "\n",
    "input_string = \"Hello World! 123* # welcome to pYtHoN\"\n",
    "count_case_types(input_string)"
   ]
  },
  {
   "cell_type": "code",
   "execution_count": 11,
   "id": "90aea41b-9af6-4f6b-8ae7-02eb846e05c4",
   "metadata": {},
   "outputs": [
    {
     "name": "stdout",
     "output_type": "stream",
     "text": [
      "Total vowels are: 8\n"
     ]
    }
   ],
   "source": [
    "#Write a Python Count vowels in a string\n",
    "\n",
    "#input= \"Welcome to Python Assignment\"\n",
    "\n",
    "#Output: Total vowels are: 8\n",
    "def count_vowels(input_string):\n",
    "    vowels = \"aeiouAEIOU\"\n",
    "    count = 0\n",
    "    \n",
    "    for char in input_string:\n",
    "        if char in vowels:\n",
    "            count += 1\n",
    "            \n",
    "    print(f\"Total vowels are: {count}\")\n",
    "\n",
    "input_string = \"Welcome to Python Assignment\"\n",
    "count_vowels(input_string)"
   ]
  },
  {
   "cell_type": "code",
   "execution_count": null,
   "id": "c40178b9-9698-4dde-af48-f71db6411478",
   "metadata": {},
   "outputs": [],
   "source": []
  }
 ],
 "metadata": {
  "kernelspec": {
   "display_name": "Python [conda env:base] *",
   "language": "python",
   "name": "conda-base-py"
  },
  "language_info": {
   "codemirror_mode": {
    "name": "ipython",
    "version": 3
   },
   "file_extension": ".py",
   "mimetype": "text/x-python",
   "name": "python",
   "nbconvert_exporter": "python",
   "pygments_lexer": "ipython3",
   "version": "3.12.7"
  }
 },
 "nbformat": 4,
 "nbformat_minor": 5
}
