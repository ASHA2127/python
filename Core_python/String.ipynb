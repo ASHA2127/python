{
 "cells": [
  {
   "cell_type": "code",
   "execution_count": 3,
   "id": "3a4dac5a-a636-4661-80d7-c351a6ff5639",
   "metadata": {},
   "outputs": [
    {
     "name": "stdout",
     "output_type": "stream",
     "text": [
      "Word occurrences: {'to': 2, 'change': 2, 'the': 3, 'overall': 1, 'look': 2, 'of': 1, 'your': 1, 'document.': 1, 'available': 1, 'in': 1, 'gallery': 1}\n"
     ]
    }
   ],
   "source": [
    "#write a python program to count the occurences of each word in a given sentence\n",
    "\n",
    "# Given string\n",
    "string = \"To change the overall look of your document. To change the look available in the gallery\"\n",
    "\n",
    "# Convert to lowercase and split into words\n",
    "words = string.lower().split()\n",
    "\n",
    "# Count occurrences \n",
    "word_count = {}\n",
    "for word in words:\n",
    "    word_count[word] = word_count.get(word, 0) + 1\n",
    "\n",
    "# Print the word counts\n",
    "print(\"Word occurrences:\", word_count)"
   ]
  },
  {
   "cell_type": "code",
   "execution_count": 24,
   "id": "3ec3ebf1-100e-469e-9ba9-7609a479625e",
   "metadata": {},
   "outputs": [
    {
     "name": "stdout",
     "output_type": "stream",
     "text": [
      "Reversed words: Training Python Deeptech\n"
     ]
    }
   ],
   "source": [
    "#Write a Python program to reverse words in a string\n",
    "# Given string\n",
    "Str1 = \"Deeptech Python Training\"\n",
    "\n",
    "# Reverse the words\n",
    "reverse_string = ' '.join(str1.split()[::-1])\n",
    "\n",
    "# Print the reversed string\n",
    "print(\"Reversed words:\", reverse_string)"
   ]
  },
  {
   "cell_type": "code",
   "execution_count": 35,
   "id": "f36f5bfd-36ac-4668-a01d-9e8fffd42c19",
   "metadata": {},
   "outputs": [
    {
     "name": "stdout",
     "output_type": "stream",
     "text": [
      "String after removing newlines: Best  Deeptech  Python  Training\n"
     ]
    }
   ],
   "source": [
    "#Write a Python program to remove a newline in Python\n",
    "\n",
    "# Given string with newlines\n",
    "string = \"\\nBest \\nDeeptech \\nPython \\nTraining\\n\"\n",
    "\n",
    "# Remove newlines and strip spaces\n",
    "clean_string = string.replace('\\n', ' ').strip()\n",
    "\n",
    "# Print the cleaned string\n",
    "print(\"String after removing newlines:\", clean_string)\n"
   ]
  },
  {
   "cell_type": "code",
   "execution_count": 37,
   "id": "dcd49e3c-ee07-487d-bff1-7a5fc02aa185",
   "metadata": {},
   "outputs": [
    {
     "name": "stdout",
     "output_type": "stream",
     "text": [
      "Vowel occurrences: {'a': 1, 'e': 2, 'i': 2, 'o': 3, 'u': 0}\n"
     ]
    }
   ],
   "source": [
    "#Write a Python program to count and display the vowels of a given text\n",
    "\n",
    "# Given string\n",
    "string = \"Welcome to python Training\"\n",
    "\n",
    "# Define vowels\n",
    "vowels = \"aeiou\"\n",
    "\n",
    "# Count vowels\n",
    "vowel_count = {vowel: string.lower().count(vowel) for vowel in vowels}\n",
    "\n",
    "# Print the counts of each vowel\n",
    "print(\"Vowel occurrences:\", vowel_count)"
   ]
  },
  {
   "cell_type": "code",
   "execution_count": null,
   "id": "cc40bdb4-e6dd-45d6-94e0-d09ddcdb2328",
   "metadata": {},
   "outputs": [],
   "source": []
  }
 ],
 "metadata": {
  "kernelspec": {
   "display_name": "Python [conda env:base] *",
   "language": "python",
   "name": "conda-base-py"
  },
  "language_info": {
   "codemirror_mode": {
    "name": "ipython",
    "version": 3
   },
   "file_extension": ".py",
   "mimetype": "text/x-python",
   "name": "python",
   "nbconvert_exporter": "python",
   "pygments_lexer": "ipython3",
   "version": "3.12.7"
  }
 },
 "nbformat": 4,
 "nbformat_minor": 5
}
