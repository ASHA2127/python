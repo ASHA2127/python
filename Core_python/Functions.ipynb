{
 "cells": [
  {
   "cell_type": "code",
   "execution_count": 1,
   "id": "2dde1c5f-5060-4f0a-a93c-783fb8b2a565",
   "metadata": {},
   "outputs": [
    {
     "name": "stdout",
     "output_type": "stream",
     "text": [
      "Division result: 5.0\n"
     ]
    }
   ],
   "source": [
    "#To diclare a div() function with two parameters and display their division\n",
    "\n",
    "def div(a, b):\n",
    "    return a / b\n",
    "\n",
    "# call the function and display the result\n",
    "result = div(10, 2)\n",
    "\n",
    "#display result\n",
    "print(\"Division result:\",result)\n",
    "             "
   ]
  },
  {
   "cell_type": "code",
   "execution_count": 11,
   "id": "7226815d-dc6b-40de-aaeb-18b182666fb9",
   "metadata": {},
   "outputs": [
    {
     "name": "stdout",
     "output_type": "stream",
     "text": [
      "square result: 16\n"
     ]
    }
   ],
   "source": [
    "#Declare a square() function with one parameter and displya the square of that number\n",
    "\n",
    "def square(x):\n",
    "    return x * x\n",
    "\n",
    "#call the function and display the result\n",
    "result = square(4)\n",
    "\n",
    "#print square result\n",
    "print(\"square result:\",result) \n"
   ]
  },
  {
   "cell_type": "code",
   "execution_count": 5,
   "id": "46d57704-53aa-4a32-9d93-fcbc111ab5ac",
   "metadata": {},
   "outputs": [
    {
     "name": "stdout",
     "output_type": "stream",
     "text": [
      "random Numbers: [100, 56, 64, 51, 94]\n",
      "maximum number: 100\n",
      "minimum number: 51\n"
     ]
    }
   ],
   "source": [
    "#using max() and min() function to display the maximum and minimum of 5 random numbers\n",
    "\n",
    "import random\n",
    "\n",
    "# generate 5 random numbers\n",
    "random_numbers = [random.randint(1, 100) for _ in range(5)]\n",
    "print(\"random Numbers:\", random_numbers)\n",
    "\n",
    "# display maximum and minimum\n",
    "max_number = max(random_numbers)\n",
    "min_number = min(random_numbers)\n",
    "print(\"maximum number:\", max_number)\n",
    "print(\"minimum number:\", min_number)"
   ]
  },
  {
   "cell_type": "code",
   "execution_count": 7,
   "id": "8a76c645-7e66-49a2-8caa-c69208f1d4b9",
   "metadata": {},
   "outputs": [
    {
     "name": "stdin",
     "output_type": "stream",
     "text": [
      "Enter your name:  asha\n"
     ]
    },
    {
     "name": "stdout",
     "output_type": "stream",
     "text": [
      "Name in Lower Case: asha\n"
     ]
    }
   ],
   "source": [
    "#accept a name from the user and display it in lower case using the lower() function\n",
    "\n",
    "# Accept a name from the user\n",
    "name = input(\"Enter your name: \")\n",
    "# Display the name in lower case\n",
    "print(\"Name in Lower Case:\", name.lower())"
   ]
  },
  {
   "cell_type": "code",
   "execution_count": 9,
   "id": "0015cfa1-568d-4e70-a020-5ff6bceff6f1",
   "metadata": {},
   "outputs": [
    {
     "name": "stdout",
     "output_type": "stream",
     "text": [
      "positive\n",
      "negetive\n",
      "zero\n"
     ]
    }
   ],
   "source": [
    "#write a lambda function that categorizes a number and test it with different numbers\n",
    "\n",
    "# lambda function to categorize the number\n",
    "categorize_number = lambda x:(\n",
    "     'positive' if x > 0 else\n",
    "     'negetive' if x < 0 else\n",
    "     'zero')\n",
    "  \n",
    "# Test the lambda function with different numbers\n",
    "print(categorize_number(10))   #  Positive\n",
    "print(categorize_number(-5))   #  Negative\n",
    "print(categorize_number(0))    #  Zero"
   ]
  },
  {
   "cell_type": "code",
   "execution_count": null,
   "id": "67b9a7d9-eb82-4f1b-8fc3-bfff397b77f1",
   "metadata": {},
   "outputs": [],
   "source": []
  }
 ],
 "metadata": {
  "kernelspec": {
   "display_name": "Python [conda env:base] *",
   "language": "python",
   "name": "conda-base-py"
  },
  "language_info": {
   "codemirror_mode": {
    "name": "ipython",
    "version": 3
   },
   "file_extension": ".py",
   "mimetype": "text/x-python",
   "name": "python",
   "nbconvert_exporter": "python",
   "pygments_lexer": "ipython3",
   "version": "3.12.7"
  }
 },
 "nbformat": 4,
 "nbformat_minor": 5
}
