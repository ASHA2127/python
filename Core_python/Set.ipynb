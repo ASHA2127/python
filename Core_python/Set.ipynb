{
 "cells": [
  {
   "cell_type": "code",
   "execution_count": 11,
   "id": "a3151c3c-085f-4fc4-b0e0-63ca7f27b16a",
   "metadata": {},
   "outputs": [
    {
     "name": "stdout",
     "output_type": "stream",
     "text": [
      "{70, 40, 10, 50, 20, 60, 30}\n"
     ]
    }
   ],
   "source": [
    "#Write a Python program to Get Only unique items from two sets.\n",
    "#Input:\n",
    "#set1 (10, 20, 30, 40, 50) set2 (30, 40, 50, 60, 70)\n",
    "#Output:(70, 40, 10, 50, 20, 60, 30)\n",
    "\n",
    "\n",
    "# Define the sets\n",
    "set1 = {10, 20, 30, 40, 50}\n",
    "set2 = {30, 40, 50, 60, 70}\n",
    "\n",
    "# Get unique items from both sets\n",
    "\n",
    "result1 = set1 | set2        #union\n",
    "\n",
    "#diplay output\n",
    "print(result)\n"
   ]
  },
  {
   "cell_type": "code",
   "execution_count": 21,
   "id": "0211e467-348e-4865-b17f-03125b28a2d5",
   "metadata": {},
   "outputs": [
    {
     "name": "stdout",
     "output_type": "stream",
     "text": [
      "{20, 70, 10, 60}\n"
     ]
    }
   ],
   "source": [
    "#Write a Python program to Return a set of elements present in Set A or B, but not both.\n",
    "#Input:set1 (10, 20, 30, 40, 50) set2 (30, 40, 50, 60, 70)\n",
    "#Output:(20,70, 10, 60)\n",
    "\n",
    "# Define the sets\n",
    "set1 = {10, 20, 30, 40, 50}\n",
    "set2 = {30, 40, 50, 60, 70}\n",
    "# Get unique items from both sets\n",
    "\n",
    "result1 = set1 ^ set2    # symmetric     \n",
    "\n",
    "#diplay output\n",
    "print(result1)\n",
    "\n"
   ]
  },
  {
   "cell_type": "code",
   "execution_count": 27,
   "id": "012e58b1-5018-426d-90f4-183768a4694d",
   "metadata": {},
   "outputs": [
    {
     "name": "stdout",
     "output_type": "stream",
     "text": [
      "{40, 50, 30}\n"
     ]
    }
   ],
   "source": [
    "#Write a Python program to Remove items from set1 that are not common to both set1 and set2.\n",
    "\n",
    "#Input:set1 (10, 20, 30, 40, 50) \n",
    "       #set2 (30, 40, 50, 60, 70)\n",
    "\n",
    "#Output:(40,50,30)\n",
    "\n",
    "# Define the sets\n",
    "set1 = {10, 20, 30, 40, 50}\n",
    "set2 = {30, 40, 50, 60, 70}\n",
    "\n",
    "# Remove items from set1 that are not common to both sets\n",
    "set1.intersection_update(set2)\n",
    "\n",
    "# Print the modified set1\n",
    "print(set1)"
   ]
  },
  {
   "cell_type": "code",
   "execution_count": null,
   "id": "08a33ef0-8b0d-4beb-9746-5dedb7ddfd3e",
   "metadata": {},
   "outputs": [],
   "source": []
  }
 ],
 "metadata": {
  "kernelspec": {
   "display_name": "Python [conda env:base] *",
   "language": "python",
   "name": "conda-base-py"
  },
  "language_info": {
   "codemirror_mode": {
    "name": "ipython",
    "version": 3
   },
   "file_extension": ".py",
   "mimetype": "text/x-python",
   "name": "python",
   "nbconvert_exporter": "python",
   "pygments_lexer": "ipython3",
   "version": "3.12.7"
  }
 },
 "nbformat": 4,
 "nbformat_minor": 5
}
