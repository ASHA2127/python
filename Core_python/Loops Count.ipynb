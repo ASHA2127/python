{
 "cells": [
  {
   "cell_type": "code",
   "execution_count": 1,
   "id": "16c8ceb8-537b-4d19-8301-0d5d1c03a0bc",
   "metadata": {},
   "outputs": [
    {
     "name": "stdout",
     "output_type": "stream",
     "text": [
      "1\n",
      "2\n",
      "3\n",
      "4\n",
      "5\n",
      "6\n",
      "7\n",
      "8\n",
      "9\n",
      "10\n"
     ]
    }
   ],
   "source": [
    "#Print the first 10 natural numbers using for loop\n",
    "# Loop through numbers from 1 to 10\n",
    "for i in range(1, 11):\n",
    "    print(i)  # Print the current number"
   ]
  },
  {
   "cell_type": "code",
   "execution_count": 3,
   "id": "573bc18e-3f20-474a-a238-c28deca063a0",
   "metadata": {},
   "outputs": [
    {
     "name": "stdin",
     "output_type": "stream",
     "text": [
      "Enter a string:  madam\n"
     ]
    },
    {
     "name": "stdout",
     "output_type": "stream",
     "text": [
      "madam is a palindrome.\n"
     ]
    }
   ],
   "source": [
    "#Python program to check if the given string is a palindrome\n",
    "def is_palindrome(s):\n",
    "    # Check if the string is equal to its reverse\n",
    "    return s == s[::-1]\n",
    "\n",
    "# user input\n",
    "str = input(\"Enter a string: \")\n",
    "# Check if the string is a palindrome\n",
    "if is_palindrome(str):\n",
    "    print(f\"{str} is a palindrome.\")  # if true\n",
    "else:\n",
    "    print(f\"{str} is not a palindrome.\")  # if false"
   ]
  },
  {
   "cell_type": "code",
   "execution_count": null,
   "id": "72e89c90-b55c-44a8-af30-2f4ad2ad60a4",
   "metadata": {},
   "outputs": [],
   "source": [
    "\n"
   ]
  },
  {
   "cell_type": "code",
   "execution_count": 1,
   "id": "153a0de1-c8dc-44ad-8ce1-4efb9b10be0d",
   "metadata": {},
   "outputs": [
    {
     "name": "stdin",
     "output_type": "stream",
     "text": [
      "Enter a number:  153\n"
     ]
    },
    {
     "name": "stdout",
     "output_type": "stream",
     "text": [
      "153 is an Armstrong number.\n"
     ]
    }
   ],
   "source": [
    "#Python program to check if a given number is an Armstrong number\n",
    "def is_armstrong_number(num):\n",
    "    \n",
    "    digits = str(num)\n",
    "    num_digits = len(digits) \n",
    "    sum_of_powers = sum(int(digit) ** num_digits for digit in digits)\n",
    "    return sum_of_powers == num\n",
    "\n",
    "# Input from the user\n",
    "input_number = int(input(\"Enter a number: \"))\n",
    "\n",
    "# Check if the number is an Armstrong number\n",
    "if is_armstrong_number(input_number):\n",
    "    print(f\"{input_number} is an Armstrong number.\")\n",
    "else:\n",
    "    print(f\"{input_number} is not an Armstrong number.\")"
   ]
  },
  {
   "cell_type": "code",
   "execution_count": 3,
   "id": "e8799bcf-804e-428a-bf82-25e97d0c5688",
   "metadata": {},
   "outputs": [
    {
     "name": "stdout",
     "output_type": "stream",
     "text": [
      "Fibonacci series between 0 to 50: [0, 1, 1, 2, 3, 5, 8, 13, 21, 34]\n"
     ]
    }
   ],
   "source": [
    "#Python program to get the Fibonacci series between 0 to 50\n",
    "def fibonacci_series(limit):\n",
    "    fib_series = []\n",
    "    a, b = 0, 1\n",
    "    while a <= limit:\n",
    "        fib_series.append(a)\n",
    "        a, b = b, a + b\n",
    "    return fib_series\n",
    "\n",
    "# Example usage\n",
    "fib_series = fibonacci_series(50)\n",
    "print(\"Fibonacci series between 0 to 50:\", fib_series)"
   ]
  },
  {
   "cell_type": "code",
   "execution_count": 5,
   "id": "6a0964dc-3071-480c-9879-4cbbba6b2bc4",
   "metadata": {},
   "outputs": [
    {
     "name": "stdin",
     "output_type": "stream",
     "text": [
      "Enter a password:  Ash13@a2127\n"
     ]
    },
    {
     "name": "stdout",
     "output_type": "stream",
     "text": [
      "Password is valid.\n"
     ]
    }
   ],
   "source": [
    "#Python program to check the validity of password input by users\n",
    "import re\n",
    "\n",
    "def is_valid_password(password):\n",
    "    # Password must be at least 8 characters long, contain at least one uppercase letter,\n",
    "    # one lowercase letter, one digit, and one special character\n",
    "    if (len(password) < 8 or\n",
    "        not re.search(r\"[A-Z]\", password) or\n",
    "        not re.search(r\"[a-z]\", password) or\n",
    "        not re.search(r\"[0-9]\", password) or\n",
    "        not re.search(r\"[!@#$%^&*(),.?\\\":{}|<>]\", password)):\n",
    "        return False\n",
    "    return True\n",
    "\n",
    "# Example usage\n",
    "password = input(\"Enter a password: \")\n",
    "if is_valid_password(password):\n",
    "    print(\"Password is valid.\")\n",
    "else:\n",
    "    print(\"Password is invalid. It must be at least 8 characters long and include uppercase, lowercase, digit, and special character.\")"
   ]
  },
  {
   "cell_type": "code",
   "execution_count": null,
   "id": "a69ca74b-abe7-4298-8ae8-de3e7676a6d9",
   "metadata": {},
   "outputs": [],
   "source": []
  }
 ],
 "metadata": {
  "kernelspec": {
   "display_name": "Python [conda env:base] *",
   "language": "python",
   "name": "conda-base-py"
  },
  "language_info": {
   "codemirror_mode": {
    "name": "ipython",
    "version": 3
   },
   "file_extension": ".py",
   "mimetype": "text/x-python",
   "name": "python",
   "nbconvert_exporter": "python",
   "pygments_lexer": "ipython3",
   "version": "3.12.7"
  }
 },
 "nbformat": 4,
 "nbformat_minor": 5
}
