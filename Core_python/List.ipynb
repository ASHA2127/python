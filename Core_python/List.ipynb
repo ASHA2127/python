{
 "cells": [
  {
   "cell_type": "code",
   "execution_count": 3,
   "id": "a5b84357-cc42-4f08-b8e7-ab8fa239238a",
   "metadata": {},
   "outputs": [
    {
     "name": "stdout",
     "output_type": "stream",
     "text": [
      "15\n"
     ]
    }
   ],
   "source": [
    "#write a python program to sum all the items in a list\n",
    "\n",
    "n = [1, 2, 3, 4, 5]\n",
    "\n",
    "#calculate all the items in the list\n",
    "total_sum = sum(n)\n",
    "\n",
    "#print the total_sum\n",
    "print(total_sum)"
   ]
  },
  {
   "cell_type": "code",
   "execution_count": 35,
   "id": "9187e2d1-c4d3-471f-a430-6a6b15bdbdea",
   "metadata": {},
   "outputs": [
    {
     "name": "stdout",
     "output_type": "stream",
     "text": [
      "Largest number: 9\n",
      "Smallest number: 1\n"
     ]
    }
   ],
   "source": [
    "#write a python program to get the largest and smallest numbers from a list without using built in functions\n",
    "\n",
    "numbers = [3, 1, 4, 1, 5, 9, 2]\n",
    "\n",
    "\n",
    "largest = smallest = numbers[0]  #both smallest and largest value will be assigned to numbers\n",
    "\n",
    "for num in numbers:\n",
    "    if num > largest:\n",
    "        largest = num\n",
    "    if num < smallest:\n",
    "        smallest = num\n",
    "\n",
    "\n",
    "print(\"Largest number:\", largest)\n",
    "print(\"Smallest number:\", smallest)"
   ]
  },
  {
   "cell_type": "code",
   "execution_count": 39,
   "id": "dfd30b0f-255d-458f-9abc-f10b706476a8",
   "metadata": {},
   "outputs": [
    {
     "name": "stdout",
     "output_type": "stream",
     "text": [
      "Duplicate values in the list are: [1, 2, 3]\n"
     ]
    }
   ],
   "source": [
    "#write a python program to find duplicate values from a list and display those\n",
    "#list of numbers\n",
    "numbers = [1, 2, 3, 4, 5, 1, 2, 6, 7, 8, 3]\n",
    "\n",
    "#empty list to store duplicates\n",
    "duplicates = []\n",
    "\n",
    "for number in numbers:\n",
    "    # Check if the number appears more than once in the list\n",
    "    if numbers.count(number) > 1 and number not in duplicates:\n",
    "        duplicates.append(number)\n",
    "\n",
    "# Print the duplicate values\n",
    "print(\"Duplicate values in the list are:\", duplicates)"
   ]
  },
  {
   "cell_type": "code",
   "execution_count": 47,
   "id": "b3759b39-ba88-4589-a8d0-db68fd69dbef",
   "metadata": {},
   "outputs": [
    {
     "name": "stdout",
     "output_type": "stream",
     "text": [
      "Original list: [1, 1, 2, 3, 4, 4, 5, 1]\n",
      "Length of the first part of the list: 3\n",
      "Splitted the said list into two parts: ([1, 1, 2], [3, 4, 4, 5, 1])\n"
     ]
    }
   ],
   "source": [
    "#Write a Python program to split a given list into two parts where the length of the first part of the list is given.\n",
    "\n",
    "#Original list:[1, 1, 2, 3, 4, 4, 5, 1]\n",
    "\n",
    "#Length of the first part of the list: 3\n",
    "\n",
    "#Splitted the said list into two parts: ([1, 1, 2], [3, 4, 4, 5, 1])\n",
    "\n",
    "# Original list\n",
    "original_list = [1, 1, 2, 3, 4, 4, 5, 1]\n",
    "\n",
    "# Length of the first part\n",
    "length_of_first_part = 3\n",
    "\n",
    "# Split the list\n",
    "first_part = original_list[:length_of_first_part]\n",
    "second_part = original_list[length_of_first_part:]\n",
    "\n",
    "# Print the results\n",
    "print(\"Original list:\", original_list)\n",
    "print(\"Length of the first part of the list:\", length_of_first_part)\n",
    "print(\"Splitted the said list into two parts:\", (first_part, second_part))"
   ]
  },
  {
   "cell_type": "code",
   "execution_count": 49,
   "id": "220a763c-24ee-4658-a56b-dffc3f6a864a",
   "metadata": {},
   "outputs": [
    {
     "name": "stdout",
     "output_type": "stream",
     "text": [
      "Traverse the said list in reverse order:\n",
      "black\n",
      "white\n",
      "green\n",
      "red\n"
     ]
    }
   ],
   "source": [
    "#Write a Python program to traverse a given list in reverse order, and print the elements with the original index.\n",
    "\n",
    "#Original list:['red', 'green', 'white', 'black']\n",
    "#Traverse the said list in reverse order:\n",
    "#black\n",
    "#white\n",
    "#green\n",
    "#red\n",
    "\n",
    "# Original list\n",
    "original_list = ['red', 'green', 'white', 'black']\n",
    "\n",
    "# Print the elements in reverse order\n",
    "print(\"Traverse the said list in reverse order:\")\n",
    "for element in reversed(original_list):\n",
    "    print(element)"
   ]
  },
  {
   "cell_type": "code",
   "execution_count": null,
   "id": "07f5a036-5658-4c97-8d3c-db6df45b350e",
   "metadata": {},
   "outputs": [],
   "source": []
  }
 ],
 "metadata": {
  "kernelspec": {
   "display_name": "Python [conda env:base] *",
   "language": "python",
   "name": "conda-base-py"
  },
  "language_info": {
   "codemirror_mode": {
    "name": "ipython",
    "version": 3
   },
   "file_extension": ".py",
   "mimetype": "text/x-python",
   "name": "python",
   "nbconvert_exporter": "python",
   "pygments_lexer": "ipython3",
   "version": "3.12.7"
  }
 },
 "nbformat": 4,
 "nbformat_minor": 5
}
