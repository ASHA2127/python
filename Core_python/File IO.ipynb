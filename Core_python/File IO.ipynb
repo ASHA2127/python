{
 "cells": [
  {
   "cell_type": "code",
   "execution_count": 3,
   "id": "c813cc08-fa8c-4b81-b0ec-42a0e3e13096",
   "metadata": {},
   "outputs": [
    {
     "name": "stdout",
     "output_type": "stream",
     "text": [
      "Hello, World!\n",
      "This is a sample text file.\n",
      "It contains multiple lines.\n"
     ]
    }
   ],
   "source": [
    "#1. Write a function in python to read the content from a text file \"ABC.txt\" line by line and display the same on screen.\n",
    "\n",
    "def read_and_display_file():\n",
    "    with open(\"ABC.txt\", 'r') as file:\n",
    "        for line in file:\n",
    "            print(line.strip())  # strip() removes any leading/trailing whitespace\n",
    "\n",
    "# Call the function\n",
    "read_and_display_file()"
   ]
  },
  {
   "cell_type": "code",
   "execution_count": 5,
   "id": "3f5823a0-decd-420e-b340-4404f3501442",
   "metadata": {},
   "outputs": [
    {
     "name": "stdout",
     "output_type": "stream",
     "text": [
      "Total number of words: 12\n"
     ]
    }
   ],
   "source": [
    "#2. Write a function in Python to count and display the total number of words in a text file \"ABC.txt\"\n",
    "def count_words_in_file():\n",
    "    with open(\"ABC.txt\", 'r') as file:\n",
    "        content = file.read()  # Read the entire content of the file\n",
    "        word_count = len(content.split())  # Split the content into words and count them\n",
    "        print(f\"Total number of words: {word_count}\")\n",
    "\n",
    "# Call the function\n",
    "count_words_in_file()"
   ]
  },
  {
   "cell_type": "code",
   "execution_count": 7,
   "id": "4018a1e0-547f-4896-b624-e15f9df19ee0",
   "metadata": {},
   "outputs": [
    {
     "name": "stdout",
     "output_type": "stream",
     "text": [
      "Total number of uppercase characters: 4\n"
     ]
    }
   ],
   "source": [
    "#3. Write a function in Python to count uppercase character in a text file \"ABC.txt\"\n",
    "def count_uppercase_characters():\n",
    "    with open(\"ABC.txt\", 'r') as file:\n",
    "        content = file.read()  # Read the entire content of the file\n",
    "        uppercase_count = sum(1 for char in content if char.isupper())  # Count uppercase characters\n",
    "        print(f\"Total number of uppercase characters: {uppercase_count}\")\n",
    "\n",
    "# Call the function\n",
    "count_uppercase_characters()\n"
   ]
  },
  {
   "cell_type": "code",
   "execution_count": 9,
   "id": "63118bfd-ae6e-4d5c-b8f6-008d5f8bc3dd",
   "metadata": {},
   "outputs": [
    {
     "name": "stdout",
     "output_type": "stream",
     "text": [
      "a\n",
      "in\n",
      "a\n",
      "far\n",
      "The\n",
      "sun\n",
      "was\n",
      "and\n",
      "the\n",
      "sky\n",
      "was\n",
      "It\n",
      "was\n",
      "a\n"
     ]
    }
   ],
   "source": [
    "#4. Write a function display_words() in python to read lines from a text file \"story.txt\", and display those words, which are less than 4 characters.\n",
    "def display_words():\n",
    "    with open(\"story.txt\", 'r') as file:\n",
    "        for line in file:\n",
    "            words = line.split()  # Split the line into words\n",
    "            for word in words:\n",
    "                if len(word) < 4:  # Check if the word is less than 4 characters\n",
    "                    print(word)  # Display the short word\n",
    "\n",
    "# Call the function\n",
    "display_words()"
   ]
  },
  {
   "cell_type": "code",
   "execution_count": null,
   "id": "b04ef7dc-bf98-4690-8339-f818441e1f1e",
   "metadata": {},
   "outputs": [],
   "source": []
  }
 ],
 "metadata": {
  "kernelspec": {
   "display_name": "Python [conda env:base] *",
   "language": "python",
   "name": "conda-base-py"
  },
  "language_info": {
   "codemirror_mode": {
    "name": "ipython",
    "version": 3
   },
   "file_extension": ".py",
   "mimetype": "text/x-python",
   "name": "python",
   "nbconvert_exporter": "python",
   "pygments_lexer": "ipython3",
   "version": "3.12.7"
  }
 },
 "nbformat": 4,
 "nbformat_minor": 5
}
