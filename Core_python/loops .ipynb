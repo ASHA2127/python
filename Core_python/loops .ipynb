{
 "cells": [
  {
   "cell_type": "code",
   "execution_count": 1,
   "id": "e28db88d-c620-4bdb-8877-060d0c2cbff7",
   "metadata": {},
   "outputs": [
    {
     "name": "stdin",
     "output_type": "stream",
     "text": [
      "Enter a number to reverse:  12345\n"
     ]
    },
    {
     "name": "stdout",
     "output_type": "stream",
     "text": [
      "The reversed number is: 54321\n"
     ]
    }
   ],
   "source": [
    "#Write a python program to reverse a number using a while loop.\n",
    "def reverse_number(num):\n",
    "    # Initialize the reversed number to 0\n",
    "    reversed_num = 0\n",
    "    \n",
    "    # Loop until the number becomes 0\n",
    "    while num > 0:\n",
    "        #the last digit of the number\n",
    "        digit = num % 10\n",
    "        \n",
    "        #the reversed number\n",
    "        reversed_num = reversed_num * 10 + digit\n",
    "        \n",
    "        # Remove the last digit from the number\n",
    "        num //= 10\n",
    "    \n",
    "    return reversed_num\n",
    "\n",
    "number = int(input(\"Enter a number to reverse: \"))\n",
    "reversed_number = reverse_number(number)\n",
    "print(f\"The reversed number is: {reversed_number}\")"
   ]
  },
  {
   "cell_type": "code",
   "execution_count": 7,
   "id": "b0f89fc6-6206-4f90-a3cb-0157418982e0",
   "metadata": {},
   "outputs": [
    {
     "name": "stdin",
     "output_type": "stream",
     "text": [
      "Enter a number to check if it's a palindrome:  121\n"
     ]
    },
    {
     "name": "stdout",
     "output_type": "stream",
     "text": [
      "121 is a palindrome.\n"
     ]
    }
   ],
   "source": [
    "#Write a python program to check whether a number is palindrome or not?\n",
    "# Function to check if a number is a palindrome\n",
    "def is_palindrome(num):\n",
    "    # Convert the number to a string and compare it with its reverse\n",
    "    return str(num) == str(num)[::-1]\n",
    "\n",
    "# Example usage\n",
    "number = int(input(\"Enter a number to check if it's a palindrome: \"))\n",
    "if is_palindrome(number):\n",
    "    print(f\"{number} is a palindrome.\")\n",
    "else:\n",
    "    print(f\"{number} is not a palindrome.\")\n"
   ]
  },
  {
   "cell_type": "code",
   "execution_count": 11,
   "id": "9478d561-3ce7-42c1-946d-f6fda8025ada",
   "metadata": {},
   "outputs": [
    {
     "name": "stdin",
     "output_type": "stream",
     "text": [
      "Enter a number to find its factorial:  5\n"
     ]
    },
    {
     "name": "stdout",
     "output_type": "stream",
     "text": [
      "The factorial of 5 is: 120\n"
     ]
    }
   ],
   "source": [
    "#Write a python program finding the factorial of a given number using a while loop.\n",
    "# Function to calculate the factorial of a number\n",
    "def factorial(num):\n",
    "    fact = 1  # Initialize result to 1\n",
    "    while num > 1:  # Loop until num is greater than 1\n",
    "        fact *= num  # Multiply result by num\n",
    "        num -= 1  # Decrease num by 1\n",
    "    return fact  # Return the calculated factorial\n",
    "\n",
    "# Example usage\n",
    "number = int(input(\"Enter a number to find its factorial: \"))\n",
    "if number < 0:\n",
    "    print(\"Factorial is not defined for negative numbers.\")\n",
    "else:\n",
    "    fact = factorial(number)  # Call the factorial function\n",
    "    print(f\"The factorial of {number} is: {fact}\")\n"
   ]
  },
  {
   "cell_type": "code",
   "execution_count": 13,
   "id": "84b8d4c4-5a98-4a5d-9073-6dd152987f79",
   "metadata": {},
   "outputs": [
    {
     "name": "stdin",
     "output_type": "stream",
     "text": [
      "Enter a number (0 to stop):  6\n",
      "Enter a number (0 to stop):  7\n",
      "Enter a number (0 to stop):  0\n"
     ]
    },
    {
     "name": "stdout",
     "output_type": "stream",
     "text": [
      "The sum of all entered numbers is: 13\n"
     ]
    }
   ],
   "source": [
    "#Accept numbers using input() function until the user enters 0. If user input 0 then break the while loop and display the sum of all the numbers.\n",
    "def sum_until_zero():\n",
    "    # Initialize the total sum to 0\n",
    "    total_sum = 0\n",
    "    \n",
    "    # Infinite loop to accept numbers\n",
    "    while True:\n",
    "        # Accept a number from the user\n",
    "        number = int(input(\"Enter a number (0 to stop): \"))\n",
    "        \n",
    "        # Check if the user entered 0\n",
    "        if number == 0:\n",
    "            break  # Exit the loop if 0 is entered\n",
    "        \n",
    "        # Add the number to the total sum\n",
    "        total_sum += number\n",
    "    \n",
    "    # Display the total sum\n",
    "    print(f\"The sum of all entered numbers is: {total_sum}\")\n",
    "\n",
    "# Call the function to execute\n",
    "sum_until_zero()"
   ]
  },
  {
   "cell_type": "code",
   "execution_count": null,
   "id": "9d4bceb6-38e9-4b70-94b7-c16d8f76d00f",
   "metadata": {},
   "outputs": [],
   "source": []
  }
 ],
 "metadata": {
  "kernelspec": {
   "display_name": "Python [conda env:base] *",
   "language": "python",
   "name": "conda-base-py"
  },
  "language_info": {
   "codemirror_mode": {
    "name": "ipython",
    "version": 3
   },
   "file_extension": ".py",
   "mimetype": "text/x-python",
   "name": "python",
   "nbconvert_exporter": "python",
   "pygments_lexer": "ipython3",
   "version": "3.12.7"
  }
 },
 "nbformat": 4,
 "nbformat_minor": 5
}
