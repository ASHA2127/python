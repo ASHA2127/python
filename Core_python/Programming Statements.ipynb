{
 "cells": [
  {
   "cell_type": "code",
   "execution_count": 3,
   "id": "6e98fc9e-1427-4989-ae26-7df2ba13c0e4",
   "metadata": {},
   "outputs": [
    {
     "name": "stdin",
     "output_type": "stream",
     "text": [
      "Enter a number: 3\n"
     ]
    },
    {
     "name": "stdout",
     "output_type": "stream",
     "text": [
      "odd\n"
     ]
    }
   ],
   "source": [
    "#check even or odd using ternary operator\n",
    "\n",
    "a = int(input(\"Enter a number:\"))\n",
    "if a % 2 == 0:\n",
    "    print(\"even\")  # even number\n",
    "else:\n",
    "    print(\"odd\")  # odd number\n"
   ]
  },
  {
   "cell_type": "code",
   "execution_count": 5,
   "id": "73f484bb-8381-4c34-af8f-a7fefa3456fe",
   "metadata": {},
   "outputs": [
    {
     "name": "stdin",
     "output_type": "stream",
     "text": [
      "Enter first number: 3\n",
      "Enter second number: 5\n"
     ]
    },
    {
     "name": "stdout",
     "output_type": "stream",
     "text": [
      "After swapping:\n",
      "First number: 5\n",
      "Second number: 3\n"
     ]
    }
   ],
   "source": [
    "# swap two numbers using input function\n",
    "\n",
    "num1 = int(input(\"Enter first number:\")) #first input\n",
    "num2 = int(input(\"Enter second number:\")) # second input\n",
    "\n",
    "num1, num2 = num2, num2 #swapping\n",
    "\n",
    "print(\"After swapping:\")\n",
    "print(\"First number:\" ,num1)\n",
    "print(\"Second number:\" ,num2)\n",
    "        "
   ]
  },
  {
   "cell_type": "code",
   "execution_count": 11,
   "id": "dd56a46f-0087-4c0f-91ae-0cf493a76ff0",
   "metadata": {},
   "outputs": [
    {
     "name": "stdin",
     "output_type": "stream",
     "text": [
      "Enter distance in kilometer: 23\n"
     ]
    },
    {
     "name": "stdout",
     "output_type": "stream",
     "text": [
      "23.0 is equal to 14.291533 miles\n"
     ]
    }
   ],
   "source": [
    "# to convert kilometers to miles\n",
    "\n",
    "km = float(input(\"Enter distance in kilometer:\"))\n",
    "\n",
    " # formula to covert km to miles (Miles = km * 0.621371)\n",
    "miles = km * 0.621371\n",
    "\n",
    "print(f\"{km} is equal to {miles} miles\")\n",
    "                  "
   ]
  },
  {
   "cell_type": "code",
   "execution_count": 13,
   "id": "dc5a47ca-8f92-4d2e-b08f-fb1cbcb53fd2",
   "metadata": {},
   "outputs": [
    {
     "name": "stdout",
     "output_type": "stream",
     "text": [
      "simple interest in Rs. 50.0.\n"
     ]
    }
   ],
   "source": [
    "# the simple interest on rs.200 for 5 years at 5% per year\n",
    "\n",
    "principal = 200     # principal amount in Rs.\n",
    "rate = 5       # rate of interest per year\n",
    "time = 5       # time in years\n",
    "\n",
    "simple_interest = (principal * rate* time) / 100\n",
    "\n",
    "print(f\"simple interest in Rs. {simple_interest}.\")"
   ]
  },
  {
   "cell_type": "code",
   "execution_count": null,
   "id": "5ec90727-fdb8-4571-842f-5691182039d5",
   "metadata": {},
   "outputs": [],
   "source": [
    "\n"
   ]
  }
 ],
 "metadata": {
  "kernelspec": {
   "display_name": "Python [conda env:base] *",
   "language": "python",
   "name": "conda-base-py"
  },
  "language_info": {
   "codemirror_mode": {
    "name": "ipython",
    "version": 3
   },
   "file_extension": ".py",
   "mimetype": "text/x-python",
   "name": "python",
   "nbconvert_exporter": "python",
   "pygments_lexer": "ipython3",
   "version": "3.12.7"
  }
 },
 "nbformat": 4,
 "nbformat_minor": 5
}
