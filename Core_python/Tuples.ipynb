{
 "cells": [
  {
   "cell_type": "code",
   "execution_count": 1,
   "id": "2d8e3f43-1df5-4bae-b4af-9dc425150ebf",
   "metadata": {},
   "outputs": [
    {
     "name": "stdout",
     "output_type": "stream",
     "text": [
      "Number of times 4 appears in the tuple: 3\n"
     ]
    }
   ],
   "source": [
    "#Write a Python program to find the number of times 4 appears in the tuple.\n",
    "\n",
    "#Input:\n",
    "\n",
    "#tuplex (2, 4, 5, 6, 2, 3, 4, 4, 7)\n",
    "\n",
    "#Output: 3\n",
    "\n",
    "# Input tuple\n",
    "tuplex = (2, 4, 5, 6, 2, 3, 4, 4, 7)\n",
    "\n",
    "# Counting the occurrences of 4\n",
    "count_of_fours = tuplex.count(4)\n",
    "\n",
    "# Printing the output\n",
    "print(\"Number of times 4 appears in the tuple:\", count_of_fours)\n"
   ]
  },
  {
   "cell_type": "code",
   "execution_count": 3,
   "id": "a3d71d3b-f2b4-4b23-bf92-48e52365f466",
   "metadata": {},
   "outputs": [
    {
     "name": "stdout",
     "output_type": "stream",
     "text": [
      "Output: (5, 10, 7, 4, 15, 3)\n"
     ]
    }
   ],
   "source": [
    "#Write a Python program to convert a list to a tuple.\n",
    "\n",
    "#Input: listx= [5, 10, 7, 4, 15, 3]\n",
    "\n",
    "#Output: (5, 10, 7, 4, 15, 3)\n",
    "\n",
    "# Input list\n",
    "listx = [5, 10, 7, 4, 15, 3]\n",
    "\n",
    "# Converting the list to a tuple\n",
    "tuplex = tuple(listx)\n",
    "\n",
    "# Printing the output\n",
    "print(\"Output:\", tuplex)"
   ]
  },
  {
   "cell_type": "code",
   "execution_count": 5,
   "id": "8340fd34-fc5f-4f7a-ab55-5915fe5866f8",
   "metadata": {},
   "outputs": [
    {
     "name": "stdout",
     "output_type": "stream",
     "text": [
      "Sum of values in the tuples: 21\n"
     ]
    }
   ],
   "source": [
    "#Write a Python program to calculate the sum of the numbers in a given tuple.\n",
    "\n",
    "#Input: tuples_list=[(1, 2), (3, 4), (5, 6)]\n",
    "\n",
    "#Output: Sum of values in the tuples: 21\n",
    "\n",
    "# Input list of tuples\n",
    "tuples_list = [(1, 2), (3, 4), (5, 6)]\n",
    "\n",
    "# Calculating the sum of the numbers in the tuples\n",
    "total_sum = sum(sum(tup) for tup in tuples_list)\n",
    "\n",
    "# Printing the output\n",
    "print(\"Sum of values in the tuples:\", total_sum)"
   ]
  },
  {
   "cell_type": "code",
   "execution_count": 20,
   "id": "ba897191-69cc-4566-ada5-d65b126f8514",
   "metadata": {},
   "outputs": [
    {
     "name": "stdout",
     "output_type": "stream",
     "text": [
      "Employee Details:\n",
      "Name: John Doe\n",
      "ID: 101\n",
      "Department: Human Resources\n",
      "Salary: $60000\n",
      "------------------------------\n",
      "Employee Details:\n",
      "Name: Alice Smith\n",
      "ID: 102\n",
      "Department: Marketing\n",
      "Salary: $55000\n",
      "------------------------------\n",
      "Employee Details:\n",
      "Name: Bob Johnson\n",
      "ID: 103\n",
      "Department: Engineering\n",
      "Salary: $75000\n",
      "------------------------------\n"
     ]
    }
   ],
   "source": [
    "4. #Write a python program and iterate the given tuples\n",
    "\n",
    "#Input:\n",
    "#employee1 = (\"John Doe\", 101, \"Human Resources\", 60000) \n",
    "#employee2 = (\"Alice Smith\", 102, \"Marketing\", 55000)\n",
    "#employee3 = (\"Bob Johnson\", 103, \"Engineering\", 75000)\n",
    "\n",
    "# Input tuples\n",
    "employee1 = (\"John Doe\", 101, \"Human Resources\", 60000) \n",
    "employee2 = (\"Alice Smith\", 102, \"Marketing\", 55000)\n",
    "employee3 = (\"Bob Johnson\", 103, \"Engineering\", 75000)\n",
    "\n",
    "# List of employee tuples\n",
    "employees = [employee1, employee2, employee3]\n",
    "\n",
    "# Iterating through the tuples\n",
    "for employee in employees:\n",
    "    name, id, department, salary = employee\n",
    "    print(\"Employee Details:\")\n",
    "    print(f\"Name: {name}\")\n",
    "    print(f\"ID: {id}\")\n",
    "    print(f\"Department: {department}\")\n",
    "    print(f\"Salary: ${salary}\")\n",
    "    print(\"-\" * 30)  # Separator line for clarity"
   ]
  },
  {
   "cell_type": "code",
   "execution_count": null,
   "id": "d9ac88be-11ed-4489-90a6-acd7b60ca514",
   "metadata": {},
   "outputs": [],
   "source": []
  }
 ],
 "metadata": {
  "kernelspec": {
   "display_name": "Python [conda env:base] *",
   "language": "python",
   "name": "conda-base-py"
  },
  "language_info": {
   "codemirror_mode": {
    "name": "ipython",
    "version": 3
   },
   "file_extension": ".py",
   "mimetype": "text/x-python",
   "name": "python",
   "nbconvert_exporter": "python",
   "pygments_lexer": "ipython3",
   "version": "3.12.7"
  }
 },
 "nbformat": 4,
 "nbformat_minor": 5
}
