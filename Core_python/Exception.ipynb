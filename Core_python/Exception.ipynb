{
 "cells": [
  {
   "cell_type": "code",
   "execution_count": 5,
   "id": "a48215d6-738a-4afd-be9c-16beb9e6a1a9",
   "metadata": {},
   "outputs": [
    {
     "name": "stdin",
     "output_type": "stream",
     "text": [
      "Enter the first number: 10\n",
      "Enter the second number: 0\n"
     ]
    },
    {
     "name": "stdout",
     "output_type": "stream",
     "text": [
      "We can't divide by 0\n"
     ]
    }
   ],
   "source": [
    "#Write a Python program to handle a ZeroDivisionError exception when dividing a number by zero.\n",
    "# Function to divide two numbers\n",
    "try:\n",
    "         #inputs\n",
    "    num1 =  int(input(\"Enter the first number:\"))\n",
    "\n",
    "    num2 = int(input(\"Enter the second number:\"))\n",
    "\n",
    "    result = num1/num2\n",
    "#display output\n",
    "    print(result)\n",
    "\n",
    "except ZeroDivisionError:\n",
    "\n",
    "    #display output\n",
    "     print(\"We can't divide by 0\")"
   ]
  },
  {
   "cell_type": "code",
   "execution_count": 7,
   "id": "b97c74a3-9375-4e61-8248-e9c79e4f64c3",
   "metadata": {},
   "outputs": [
    {
     "name": "stdin",
     "output_type": "stream",
     "text": [
      "Please enter an integer:  abc\n"
     ]
    },
    {
     "name": "stdout",
     "output_type": "stream",
     "text": [
      "Error: That is not a valid integer!\n"
     ]
    }
   ],
   "source": [
    "#Write a Python program that prompts the user to input an integer and raises a ValueError exception if the input is not a valid integer.\n",
    "#  integer from the user\n",
    "def get_integer():\n",
    "    user_input = input(\"Please enter an integer: \")\n",
    "    try:\n",
    "        # to convert the input to an integer\n",
    "        value = int(user_input)\n",
    "        print(f\"You entered the integer: {value}\")\n",
    "    except ValueError:\n",
    "        \n",
    "        print(\"Error: That is not a valid integer!\")\n",
    "\n",
    "# Example usage\n",
    "get_integer()"
   ]
  },
  {
   "cell_type": "code",
   "execution_count": null,
   "id": "5117de50-10a7-4b6b-9877-d1a208303927",
   "metadata": {},
   "outputs": [],
   "source": []
  }
 ],
 "metadata": {
  "kernelspec": {
   "display_name": "Python [conda env:base] *",
   "language": "python",
   "name": "conda-base-py"
  },
  "language_info": {
   "codemirror_mode": {
    "name": "ipython",
    "version": 3
   },
   "file_extension": ".py",
   "mimetype": "text/x-python",
   "name": "python",
   "nbconvert_exporter": "python",
   "pygments_lexer": "ipython3",
   "version": "3.12.7"
  }
 },
 "nbformat": 4,
 "nbformat_minor": 5
}
