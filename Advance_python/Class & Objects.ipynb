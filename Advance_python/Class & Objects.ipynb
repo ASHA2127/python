{
 "cells": [
  {
   "cell_type": "code",
   "execution_count": 9,
   "id": "da241971-a854-46da-a5f2-24de201daa22",
   "metadata": {},
   "outputs": [
    {
     "name": "stdout",
     "output_type": "stream",
     "text": [
      "Name: Alice, Age: 20, Marks: Math: 85, Science: 90, English: 78\n",
      "Average Marks: 84.33\n"
     ]
    }
   ],
   "source": [
    "# Student Management System\n",
    "#Create a class Student that stores details about a student\n",
    "\n",
    "#1. Instance Attributes:\n",
    "   #name: The student's name.\n",
    "   #age: The student's age\n",
    "   #marks: A dictionary to store subject names as keys and corresponding marks as values.\n",
    "\n",
    "#2. Methods:\n",
    "   #add_marks(self, subject, mark): Adds marks for a subject.\n",
    "   # get_average_marks(self): Returns the average marks for the student.\n",
    "  # display_student_info(self): Displays the student's name, age, and marks.\n",
    "\n",
    "class Student:\n",
    "    def __init__(self, name, age):\n",
    "        self.name = name  # Instance attribute\n",
    "        self.age = age    # Instance attribute\n",
    "        self.marks = {}   # Dictionary to store subject marks\n",
    "\n",
    "    def add_marks(self, subject, mark):\n",
    "        \"\"\"Adds marks for a subject.\"\"\"\n",
    "        self.marks[subject] = mark\n",
    "\n",
    "    def get_average_marks(self):\n",
    "        \"\"\"Returns the average marks for the student.\"\"\"\n",
    "        if not self.marks:\n",
    "            return 0  # Avoid division by zero if no marks are added\n",
    "        return sum(self.marks.values()) / len(self.marks)\n",
    "\n",
    "    def display_student_info(self):\n",
    "        \"\"\"Displays the student's name, age, and marks.\"\"\"\n",
    "        marks_info = ', '.join(f\"{subject}: {mark}\" for subject, mark in self.marks.items())\n",
    "        return f\"Name: {self.name}, Age: {self.age}, Marks: {marks_info}\"\n",
    "\n",
    "\n",
    "# Example usage\n",
    "student1 = Student(\"Alice\", 20)\n",
    "student1.add_marks(\"Math\", 85)\n",
    "student1.add_marks(\"Science\", 90)\n",
    "student1.add_marks(\"English\", 78)\n",
    "\n",
    "print(student1.display_student_info())\n",
    "print(f\"Average Marks: {student1.get_average_marks():.2f}\")"
   ]
  },
  {
   "cell_type": "code",
   "execution_count": 11,
   "id": "d5b7f95a-ede7-414f-85ec-db3027c4d600",
   "metadata": {},
   "outputs": [
    {
     "name": "stdout",
     "output_type": "stream",
     "text": [
      "Name: John Doe, Position: Software Engineer, Salary: $50000.00\n",
      "Name: John Doe, Position: Senior Software Engineer, Salary: $60000.00\n"
     ]
    }
   ],
   "source": [
    "# Employee Management\n",
    "#Create a class Employee that manages employee details:\n",
    "\n",
    "#1. Instance Attributes:\n",
    "    #name: The employee's name.\n",
    "    #salary: The employee's salary.\n",
    "    #position: The employee's position.\n",
    "\n",
    "#2. Methods:\n",
    "    #promote(self, new_position): Updates the employee's position.\n",
    "    #update_salary(self, new_salary): Updates the employee's salary.\n",
    "    # display_info(self): Displays the employee's name, position, and salary.\n",
    "\n",
    "class Employee:\n",
    "    def __init__(self, name, salary, position):\n",
    "        self.name = name      # Instance attribute\n",
    "        self.salary = salary  # Instance attribute\n",
    "        self.position = position  # Instance attribute\n",
    "\n",
    "    def promote(self, new_position):\n",
    "        \"\"\"Updates the employee's position.\"\"\"\n",
    "        self.position = new_position\n",
    "\n",
    "    def update_salary(self, new_salary):\n",
    "        \"\"\"Updates the employee's salary.\"\"\"\n",
    "        self.salary = new_salary\n",
    "\n",
    "    def display_info(self):\n",
    "        \"\"\"Displays the employee's name, position, and salary.\"\"\"\n",
    "        return f\"Name: {self.name}, Position: {self.position}, Salary: ${self.salary:.2f}\"\n",
    "\n",
    "\n",
    "# Example usage\n",
    "employee1 = Employee(\"John Doe\", 50000, \"Software Engineer\")\n",
    "print(employee1.display_info())\n",
    "\n",
    "# Promoting the employee\n",
    "employee1.promote(\"Senior Software Engineer\")\n",
    "# Updating the salary\n",
    "employee1.update_salary(60000)\n",
    "\n",
    "print(employee1.display_info())"
   ]
  },
  {
   "cell_type": "code",
   "execution_count": null,
   "id": "4e578ae2-c2e0-4d33-a85a-b3a16fae1bd6",
   "metadata": {},
   "outputs": [],
   "source": []
  }
 ],
 "metadata": {
  "kernelspec": {
   "display_name": "Python [conda env:base] *",
   "language": "python",
   "name": "conda-base-py"
  },
  "language_info": {
   "codemirror_mode": {
    "name": "ipython",
    "version": 3
   },
   "file_extension": ".py",
   "mimetype": "text/x-python",
   "name": "python",
   "nbconvert_exporter": "python",
   "pygments_lexer": "ipython3",
   "version": "3.12.7"
  }
 },
 "nbformat": 4,
 "nbformat_minor": 5
}
