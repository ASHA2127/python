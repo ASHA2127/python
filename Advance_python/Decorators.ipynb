{
 "cells": [
  {
   "cell_type": "code",
   "execution_count": 1,
   "id": "1bc0f22d-0d9d-4f66-9a2a-4cc758ca1dfb",
   "metadata": {},
   "outputs": [
    {
     "name": "stdout",
     "output_type": "stream",
     "text": [
      "3.0\n",
      "Invalid argument: -9. All arguments must be non-negative integers.\n"
     ]
    }
   ],
   "source": [
    "# Write a decorator that ensures that all input arguments to a function are non-negative integers.\n",
    "#Output:print(calculate_square_root(9)) # Valid\n",
    "       #print(calculate_square_root(-9)) # Invalid\n",
    "\n",
    "def non_negative_integers(func):\n",
    "    def wrapper(*args, **kwargs):\n",
    "        for arg in args:\n",
    "            if not isinstance(arg, int) or arg < 0:\n",
    "                raise ValueError(f\"Invalid argument: {arg}. All arguments must be non-negative integers.\")\n",
    "        return func(*args, **kwargs)\n",
    "    return wrapper\n",
    "\n",
    "@non_negative_integers\n",
    "def calculate_square_root(x):\n",
    "    return x ** 0.5\n",
    "\n",
    "# Valid call\n",
    "print(calculate_square_root(9))  # Output: 3.0\n",
    "\n",
    "# Invalid call\n",
    "try:\n",
    "    print(calculate_square_root(-9))  # Raises ValueError\n",
    "except ValueError as e:\n",
    "    print(e)  # Output: Invalid argument: -9. All arguments must be non-negative integers."
   ]
  },
  {
   "cell_type": "code",
   "execution_count": 3,
   "id": "aa352261-0c5f-4280-a678-6a92c5c363d1",
   "metadata": {},
   "outputs": [
    {
     "name": "stdout",
     "output_type": "stream",
     "text": [
      "Calling multiply with arguments: (4, 5) and keyword arguments: {}\n",
      "multiply returned: 20\n"
     ]
    },
    {
     "data": {
      "text/plain": [
       "20"
      ]
     },
     "execution_count": 3,
     "metadata": {},
     "output_type": "execute_result"
    }
   ],
   "source": [
    "#Write a decorator that prints out the function's name, arguments, and return value every time it is called. This can help debug and trace the execution of the function\n",
    "#Output:Calling multiply with arguments: (4, 5) and keyword arguments: ()\n",
    "#multiply returned: 20\n",
    "\n",
    "def debug(func):\n",
    "    def wrapper(*args, **kwargs):\n",
    "        result = func(*args, **kwargs)\n",
    "        print(f\"Calling {func.__name__} with arguments: {args} and keyword arguments: {kwargs}\")\n",
    "        print(f\"{func.__name__} returned: {result}\")\n",
    "        return result\n",
    "    return wrapper\n",
    "\n",
    "@debug\n",
    "def multiply(a, b):\n",
    "    return a * b\n",
    "\n",
    "# Example call\n",
    "multiply(4, 5)"
   ]
  },
  {
   "cell_type": "code",
   "execution_count": 5,
   "id": "a89fd963-7fca-4515-8b87-b5a314d6eba9",
   "metadata": {},
   "outputs": [
    {
     "name": "stdout",
     "output_type": "stream",
     "text": [
      "Hello!\n",
      "Hello!\n",
      "Hello!\n"
     ]
    }
   ],
   "source": [
    "#Write a decorator that repeats the execution of a function a specified number of times\n",
    "#Output:\n",
    "#Hello!\n",
    "#Hello!\n",
    "#Hello!\n",
    "\n",
    "def repeat(num_times):\n",
    "    def decorator_repeat(func):\n",
    "        def wrapper(*args, **kwargs):\n",
    "            for _ in range(num_times):\n",
    "                func(*args, **kwargs)\n",
    "        return wrapper\n",
    "    return decorator_repeat\n",
    "\n",
    "@repeat(3)\n",
    "def say_hello():\n",
    "    print(\"Hello!\")\n",
    "\n",
    "# Example call\n",
    "say_hello()"
   ]
  },
  {
   "cell_type": "code",
   "execution_count": 7,
   "id": "71f28150-6140-4217-aada-a60c005aad77",
   "metadata": {},
   "outputs": [
    {
     "name": "stdout",
     "output_type": "stream",
     "text": [
      "greet has been called 1 times.\n",
      "Hello, Alice\n",
      "greet has been called 2 times.\n",
      "Hello, Bob\n",
      "greet has been called 3 times.\n",
      "Hello, Charlie\n"
     ]
    }
   ],
   "source": [
    "#Write a decorator that counts the number of times a function has been called.\n",
    "#Output:\n",
    "#greet has been called 1 times.\n",
    "#Hello, Alice\n",
    "#greet has been called 2 times\n",
    "#Hello, Bob\n",
    "#greet has been called 3 times\n",
    "#Hello, Charlie\n",
    "\n",
    "def count_calls(func):\n",
    "    def wrapper(*args, **kwargs):\n",
    "        wrapper.call_count += 1\n",
    "        print(f\"{func.__name__} has been called {wrapper.call_count} times.\")\n",
    "        return func(*args, **kwargs)\n",
    "    wrapper.call_count = 0\n",
    "    return wrapper\n",
    "\n",
    "@count_calls\n",
    "def greet(name):\n",
    "    print(f\"Hello, {name}\")\n",
    "\n",
    "# Example calls\n",
    "greet(\"Alice\")\n",
    "greet(\"Bob\")\n",
    "greet(\"Charlie\")"
   ]
  },
  {
   "cell_type": "code",
   "execution_count": null,
   "id": "d848e992-8ca0-4492-be1e-c0f6f720efeb",
   "metadata": {},
   "outputs": [],
   "source": []
  }
 ],
 "metadata": {
  "kernelspec": {
   "display_name": "Python [conda env:base] *",
   "language": "python",
   "name": "conda-base-py"
  },
  "language_info": {
   "codemirror_mode": {
    "name": "ipython",
    "version": 3
   },
   "file_extension": ".py",
   "mimetype": "text/x-python",
   "name": "python",
   "nbconvert_exporter": "python",
   "pygments_lexer": "ipython3",
   "version": "3.12.7"
  }
 },
 "nbformat": 4,
 "nbformat_minor": 5
}
